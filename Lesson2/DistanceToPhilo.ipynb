{
 "cells": [
  {
   "cell_type": "markdown",
   "metadata": {},
   "source": [
    "# Distance à l'article sur la Philo de Wikipedia"
   ]
  },
  {
   "cell_type": "code",
   "execution_count": 34,
   "metadata": {},
   "outputs": [],
   "source": [
    "from bs4 import BeautifulSoup\n",
    "import requests as req\n",
    "from urllib.parse import urlparse\n",
    "from collections import deque\n",
    "import string"
   ]
  },
  {
   "cell_type": "code",
   "execution_count": 35,
   "metadata": {},
   "outputs": [],
   "source": [
    "domainUrl = 'https://fr.wikipedia.org'\n",
    "sourcePath = '/wiki/Grève_étudiante_pour_le_climat'\n",
    "targetPath = '/wiki/Philosophie'"
   ]
  },
  {
   "cell_type": "code",
   "execution_count": 36,
   "metadata": {},
   "outputs": [],
   "source": [
    "maxDistance = 2\n",
    "\n",
    "def computeDistance(domain, source, target, maxDistance=2):\n",
    "    searchList = deque()  # URL on to do list\n",
    "    spottedPaths = set()  # To avoid duplicates\n",
    "    visitedPaths = {}  \n",
    "    searchList.append((source, 0, ''))\n",
    "    spottedPaths.add(source)\n",
    "\n",
    "    while len(searchList):\n",
    "        toSearch = searchList.popleft()\n",
    "        visitedPaths[toSearch[0]] = (toSearch[1], toSearch[2])\n",
    "        with req.get(domain + toSearch[0]) as response:\n",
    "            if response.status_code != 200 \\\n",
    "                    or (('content-type' in response.headers) and not response.headers['content-type'].startswith('text/html')):\n",
    "                continue\n",
    "            soup = BeautifulSoup(response.text, 'html.parser')\n",
    "            # Breadth first exploration\n",
    "            for a in soup.find_all('a'):\n",
    "                if 'href' not in a.attrs or len(a.attrs['href']) == 0:\n",
    "                    continue\n",
    "\n",
    "                hrefParsed = urlparse(a.attrs['href'])\n",
    "                if (len(hrefParsed.netloc) > 0 and hrefParsed.netloc != domain) \\\n",
    "                        or len(hrefParsed.path) == 0:  # skip anchors in page\n",
    "                    continue\n",
    "\n",
    "                if hrefParsed.path.startswith(target):\n",
    "                    return toSearch[1] + 1, toSearch[0], visitedPaths\n",
    "                elif hrefParsed.path not in spottedPaths:\n",
    "                    spottedPaths.add(hrefParsed.path)\n",
    "                    if toSearch[1] < maxDistance:\n",
    "                        searchList.append((hrefParsed.path, toSearch[1] + 1, toSearch[0]))\n",
    "                    else:\n",
    "                        print(\"Reached max distance for :\", toSearch[0])\n",
    "    return -1, '', visitedPaths"
   ]
  },
  {
   "cell_type": "code",
   "execution_count": 37,
   "metadata": {},
   "outputs": [],
   "source": [
    "dist, fromPage, visited = computeDistance(domainUrl, sourcePath, targetPath, 5)"
   ]
  },
  {
   "cell_type": "code",
   "execution_count": 38,
   "metadata": {},
   "outputs": [],
   "source": [
    "# Compute visit path\n",
    "visitSequence = []\n",
    "p = fromPage\n",
    "while p != sourcePath:\n",
    "    visitSequence.append(p)\n",
    "    p = visited[p][1]\n",
    "\n",
    "visitSequence.reverse()\n",
    "visitSeqStr = ','.join(iter(visitSequence))"
   ]
  },
  {
   "cell_type": "code",
   "execution_count": 39,
   "metadata": {},
   "outputs": [
    {
     "name": "stdout",
     "output_type": "stream",
     "text": [
      "La distance à /wiki/Philosophie depuis /wiki/Grève_étudiante_pour_le_climat est de 2, en passant par /wiki/%C3%89ducation_au_d%C3%A9veloppement_durable et en visitant 36 pages\n"
     ]
    }
   ],
   "source": [
    "print(\"La distance à %s depuis %s est de %d, en passant par %s et en visitant %d pages\" % (targetPath, sourcePath, dist, visitSeqStr, len(visited)))"
   ]
  },
  {
   "cell_type": "code",
   "execution_count": 40,
   "metadata": {},
   "outputs": [
    {
     "data": {
      "text/plain": [
       "['/wiki/%C3%89ducation_au_d%C3%A9veloppement_durable']"
      ]
     },
     "execution_count": 40,
     "metadata": {},
     "output_type": "execute_result"
    }
   ],
   "source": [
    "visitSequence"
   ]
  }
 ],
 "metadata": {
  "kernelspec": {
   "display_name": "Python 3",
   "language": "python",
   "name": "python3"
  },
  "language_info": {
   "codemirror_mode": {
    "name": "ipython",
    "version": 3
   },
   "file_extension": ".py",
   "mimetype": "text/x-python",
   "name": "python",
   "nbconvert_exporter": "python",
   "pygments_lexer": "ipython3",
   "version": "3.7.4"
  }
 },
 "nbformat": 4,
 "nbformat_minor": 2
}
