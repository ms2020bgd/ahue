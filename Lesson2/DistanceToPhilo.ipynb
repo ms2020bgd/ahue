{
 "cells": [
  {
   "cell_type": "markdown",
   "metadata": {},
   "source": [
    "# Distance à l'article sur la Philo de Wikipedia"
   ]
  },
  {
   "cell_type": "code",
   "execution_count": 30,
   "metadata": {},
   "outputs": [],
   "source": [
    "import requests as req\n",
    "from lxml import html\n",
    "from urllib.parse import urlparse\n",
    "from collections import deque"
   ]
  },
  {
   "cell_type": "code",
   "execution_count": 31,
   "metadata": {},
   "outputs": [],
   "source": [
    "domainUrl = 'https://fr.wikipedia.org'\n",
    "sourcePath = '/wiki/Peuple'\n",
    "targetPath = '/wiki/Philosophie'"
   ]
  },
  {
   "cell_type": "code",
   "execution_count": 32,
   "metadata": {},
   "outputs": [],
   "source": [
    "def getRedirectLinks(htmlText):\n",
    "    tree = html.fromstring(htmlText)\n",
    "    links = tree.xpath(\"//a[@class='mw-redirect']/@href\")\n",
    "    return links\n",
    "\n",
    "def validateLink(link, domain):\n",
    "    if len(link) == 0:\n",
    "        return False, ''\n",
    "\n",
    "    hrefParsed = urlparse(link)\n",
    "    if (len(hrefParsed.netloc) > 0 and hrefParsed.netloc != domain) \\\n",
    "            or len(hrefParsed.path) == 0:  # skip anchors in page\n",
    "        return False, ''\n",
    "    \n",
    "    # Only wiki pages\n",
    "    if not hrefParsed.path.startswith('/wiki'):\n",
    "        return False, ''\n",
    "    \n",
    "    return True, hrefParsed.path"
   ]
  },
  {
   "cell_type": "code",
   "execution_count": 33,
   "metadata": {},
   "outputs": [
    {
     "data": {
      "text/plain": [
       "(True, '/wiki/R%C3%A8gles_de_droit')"
      ]
     },
     "execution_count": 33,
     "metadata": {},
     "output_type": "execute_result"
    }
   ],
   "source": [
    "valid, path = validateLink(getRedirectLinks(req.get(domainUrl + sourcePath).content)[0], domainUrl)\n",
    "valid, path"
   ]
  },
  {
   "cell_type": "markdown",
   "metadata": {},
   "source": [
    "## Recherche de distance"
   ]
  },
  {
   "cell_type": "code",
   "execution_count": 34,
   "metadata": {},
   "outputs": [],
   "source": [
    "def computeDistance(domain, source, target, maxDistance=2):\n",
    "    visitedPaths = {}  \n",
    "    searchList = deque()\n",
    "    searchList.append((source, '')) # No predecessor\n",
    "    distance = 0\n",
    "    \n",
    "    while len(searchList):\n",
    "        distance += 1\n",
    "        toSearch = searchList.popleft()\n",
    "        visitedPaths[toSearch[0]] = toSearch[1] \n",
    "        with req.get(domain + toSearch[0]) as response:\n",
    "            if response.status_code != 200 \\\n",
    "                    or (('content-type' in response.headers) and not response.headers['content-type'].startswith('text/html')):\n",
    "                print(\"Erreur de connexion sur : \" + toSearch[0] + \", code=\" + response.status_code)\n",
    "                return -2, '', visitedPath\n",
    "            \n",
    "            links = getRedirectLinks(response.content)\n",
    "            valid = False\n",
    "            for link in links:\n",
    "                valid, firstLinkPath = validateLink(link, domain)\n",
    "                if valid:\n",
    "                    if firstLinkPath.startswith(target):\n",
    "                        return distance, toSearch[0], visitedPaths\n",
    "                    elif firstLinkPath not in visitedPaths:\n",
    "                        if distance < maxDistance:\n",
    "                            searchList.append((firstLinkPath, toSearch[0]))\n",
    "                        else:\n",
    "                            print(\"Reached max distance for :\", toSearch[0])\n",
    "                            return -3, '', visitedPaths\n",
    "                        break\n",
    "            if valid == False:\n",
    "                print(\"Pas de nouveau lien valide trouvé sur : \" + toSearch[0])\n",
    "                return -4, '', visitedPaths\n",
    "    return -1, '', visitedPaths"
   ]
  },
  {
   "cell_type": "markdown",
   "metadata": {},
   "source": [
    "## Test sur la distance"
   ]
  },
  {
   "cell_type": "code",
   "execution_count": 35,
   "metadata": {},
   "outputs": [
    {
     "name": "stdout",
     "output_type": "stream",
     "text": [
      "Pas de nouveau lien valide trouvé sur : /wiki/Subdivisions_de_la_R%C3%A9publique_centrafricaine\n"
     ]
    }
   ],
   "source": [
    "dist, fromPage, visited = computeDistance(domainUrl, sourcePath, targetPath, 500)"
   ]
  },
  {
   "cell_type": "code",
   "execution_count": 36,
   "metadata": {},
   "outputs": [
    {
     "name": "stdout",
     "output_type": "stream",
     "text": [
      "Non trouvé ! (-4)\n"
     ]
    }
   ],
   "source": [
    "if dist > 0:\n",
    "    # Compute visit path\n",
    "    visitSequence = []\n",
    "    p = fromPage\n",
    "    while p != sourcePath:\n",
    "        visitSequence.append(p)\n",
    "        p = visited[p][1]\n",
    "\n",
    "    visitSequence.reverse()\n",
    "    visitSeqStr = ','.join(iter(visitSequence))\n",
    "    \n",
    "    print(\"La distance à %s depuis %s est de %d, en passant par %s et en visitant %d pages\" % (targetPath, sourcePath, dist, visitSeqStr, len(visited)))\n",
    "else:\n",
    "    print(\"Non trouvé ! (%d)\" % dist)"
   ]
  },
  {
   "cell_type": "code",
   "execution_count": 37,
   "metadata": {},
   "outputs": [
    {
     "data": {
      "text/plain": [
       "({'/wiki/Peuple': '',\n",
       "  '/wiki/R%C3%A8gles_de_droit': '/wiki/Peuple',\n",
       "  '/wiki/Droit_coutumier': '/wiki/R%C3%A8gles_de_droit',\n",
       "  '/wiki/Pr%C3%A9c%C3%A9dent': '/wiki/Droit_coutumier',\n",
       "  '/wiki/Sources_du_droit': '/wiki/Pr%C3%A9c%C3%A9dent',\n",
       "  '/wiki/Wikip%C3%A9dia:Guide_d%27internationalisation': '/wiki/Sources_du_droit',\n",
       "  '/wiki/Wikip%C3%A9dia:GI': '/wiki/Wikip%C3%A9dia:Guide_d%27internationalisation',\n",
       "  '/wiki/Francophone': '/wiki/Wikip%C3%A9dia:GI',\n",
       "  '/wiki/Mac%C3%A9doine_(pays)': '/wiki/Francophone',\n",
       "  '/wiki/Villes_de_la_Mac%C3%A9doine_du_Nord': '/wiki/Mac%C3%A9doine_(pays)',\n",
       "  '/wiki/Tetovo_(Mac%C3%A9doine)': '/wiki/Villes_de_la_Mac%C3%A9doine_du_Nord',\n",
       "  '/wiki/R%C3%A9gions_statistiques_de_la_r%C3%A9publique_de_Mac%C3%A9doine_du_Nord': '/wiki/Tetovo_(Mac%C3%A9doine)',\n",
       "  '/wiki/Municipalit%C3%A9s_de_la_R%C3%A9publique_de_Mac%C3%A9doine': '/wiki/R%C3%A9gions_statistiques_de_la_r%C3%A9publique_de_Mac%C3%A9doine_du_Nord',\n",
       "  '/wiki/R%C3%A9gion_de_l%27Est_(Mac%C3%A9doine)': '/wiki/Municipalit%C3%A9s_de_la_R%C3%A9publique_de_Mac%C3%A9doine',\n",
       "  '/wiki/Autoroute_mac%C3%A9donienne_A1': '/wiki/R%C3%A9gion_de_l%27Est_(Mac%C3%A9doine)',\n",
       "  '/wiki/R%C3%A9gion_du_Nord-Est_(Mac%C3%A9doine)': '/wiki/Autoroute_mac%C3%A9donienne_A1',\n",
       "  '/wiki/Koumanovo_(Mac%C3%A9doine)': '/wiki/R%C3%A9gion_du_Nord-Est_(Mac%C3%A9doine)',\n",
       "  '/wiki/API_k': '/wiki/Koumanovo_(Mac%C3%A9doine)',\n",
       "  '/wiki/Consonne_aspir%C3%A9e': '/wiki/API_k',\n",
       "  '/wiki/Cordes_vocales': '/wiki/Consonne_aspir%C3%A9e',\n",
       "  '/wiki/Epiglotte': '/wiki/Cordes_vocales',\n",
       "  '/wiki/D%C3%A9tresse_respiratoire': '/wiki/Epiglotte',\n",
       "  '/wiki/Mucovicidose': '/wiki/D%C3%A9tresse_respiratoire',\n",
       "  '/wiki/H%C3%A9ritage_mend%C3%A9lien_chez_l%27Homme': '/wiki/Mucovicidose',\n",
       "  '/wiki/Victor_A._McKusick': '/wiki/H%C3%A9ritage_mend%C3%A9lien_chez_l%27Homme',\n",
       "  '/wiki/Maladie_de_Marfan': '/wiki/Victor_A._McKusick',\n",
       "  '/wiki/Classification_internationale_des_soins_primaires': '/wiki/Maladie_de_Marfan',\n",
       "  '/wiki/Sp%C3%A9cialit%C3%A9s_m%C3%A9dicales': '/wiki/Classification_internationale_des_soins_primaires',\n",
       "  '/wiki/Galien': '/wiki/Sp%C3%A9cialit%C3%A9s_m%C3%A9dicales',\n",
       "  '/wiki/Smyrne': '/wiki/Galien',\n",
       "  '/wiki/Liste_des_districts_de_Turquie': '/wiki/Smyrne',\n",
       "  '/wiki/API_i': '/wiki/Liste_des_districts_de_Turquie',\n",
       "  '/wiki/Voyelle_non_arrondie': '/wiki/API_i',\n",
       "  '/wiki/Voyelle_arrondie': '/wiki/Voyelle_non_arrondie',\n",
       "  '/wiki/Degr%C3%A9_d%27aperture': '/wiki/Voyelle_arrondie',\n",
       "  '/wiki/Liste_des_notions_utilis%C3%A9es_en_phon%C3%A9tique': '/wiki/Degr%C3%A9_d%27aperture',\n",
       "  '/wiki/Consonne_occlusive_nasale_bilabiale_vois%C3%A9e': '/wiki/Liste_des_notions_utilis%C3%A9es_en_phon%C3%A9tique',\n",
       "  '/wiki/Consonne_vois%C3%A9e': '/wiki/Consonne_occlusive_nasale_bilabiale_vois%C3%A9e',\n",
       "  '/wiki/Occlusive': '/wiki/Consonne_vois%C3%A9e',\n",
       "  '/wiki/Lieu_d%27articulation': '/wiki/Occlusive',\n",
       "  '/wiki/Consonne_dento-labiale': '/wiki/Lieu_d%27articulation',\n",
       "  '/wiki/Labiale': '/wiki/Consonne_dento-labiale',\n",
       "  '/wiki/Bilabiale': '/wiki/Labiale',\n",
       "  '/wiki/API_b': '/wiki/Bilabiale',\n",
       "  '/wiki/M%C3%A9canisme_%C3%A9gressif_pulmonaire': '/wiki/API_b',\n",
       "  '/wiki/Langues_d%27Europe': '/wiki/M%C3%A9canisme_%C3%A9gressif_pulmonaire',\n",
       "  '/wiki/Langues': '/wiki/Langues_d%27Europe',\n",
       "  '/wiki/Langues_afro-asiatiques': '/wiki/Langues',\n",
       "  '/wiki/Centrafrique': '/wiki/Langues_afro-asiatiques',\n",
       "  '/wiki/Villes_de_la_R%C3%A9publique_centrafricaine': '/wiki/Centrafrique',\n",
       "  '/wiki/Subdivisions_de_la_R%C3%A9publique_centrafricaine': '/wiki/Villes_de_la_R%C3%A9publique_centrafricaine'},\n",
       " -4,\n",
       " '')"
      ]
     },
     "execution_count": 37,
     "metadata": {},
     "output_type": "execute_result"
    }
   ],
   "source": [
    "visited, dist, fromPage"
   ]
  }
 ],
 "metadata": {
  "kernelspec": {
   "display_name": "Python 3",
   "language": "python",
   "name": "python3"
  },
  "language_info": {
   "codemirror_mode": {
    "name": "ipython",
    "version": 3
   },
   "file_extension": ".py",
   "mimetype": "text/x-python",
   "name": "python",
   "nbconvert_exporter": "python",
   "pygments_lexer": "ipython3",
   "version": "3.7.4"
  }
 },
 "nbformat": 4,
 "nbformat_minor": 2
}
